{
 "cells": [
  {
   "cell_type": "markdown",
   "metadata": {},
   "source": [
    "___\n",
    "### Notebook 4 - Machine Learning Models - Clustering and Classification\n",
    "___"
   ]
  },
  {
   "cell_type": "code",
   "execution_count": 2,
   "metadata": {},
   "outputs": [
    {
     "data": {
      "text/plain": [
       "'0.2.1'"
      ]
     },
     "execution_count": 2,
     "metadata": {},
     "output_type": "execute_result"
    }
   ],
   "source": [
    "%matplotlib inline\n",
    "import pandas as pd\n",
    "import numpy as np\n",
    "from io import BytesIO\n",
    "import matplotlib.pyplot as plt\n",
    "# Clearing up memory\n",
    "import gc\n",
    "\n",
    "# Featuretools for automated feature engineering\n",
    "import featuretools as ft\n",
    "ft.__version__"
   ]
  },
  {
   "cell_type": "markdown",
   "metadata": {},
   "source": [
    "# Clustering"
   ]
  },
  {
   "cell_type": "code",
   "execution_count": 3,
   "metadata": {},
   "outputs": [],
   "source": [
    "df_kaggle = pd.read_csv('Cleaned_Application_Data.csv')\n",
    "feature_matrix = pd.read_csv('feature_matrix.csv')\n",
    "cols_df_kaggle = df_kaggle.columns\n",
    "cols_df_kaggle = cols_df_kaggle.drop('SK_ID_CURR')\n",
    "cols_feature_matrix = feature_matrix.columns\n",
    "cols_common = list(set(cols_df_kaggle).intersection(cols_feature_matrix))\n",
    "# Remove the columns from feature_matrix dataset that are present in both the datasets \n",
    "feature_matrix.drop(cols_common, axis=1, inplace=True)"
   ]
  },
  {
   "cell_type": "code",
   "execution_count": 4,
   "metadata": {},
   "outputs": [
    {
     "name": "stdout",
     "output_type": "stream",
     "text": [
      "Feature Matrix Shape: (356255, 458)\n",
      "Cleaned_Application_Data has 451 columns with missing data out of total 458 columns\n"
     ]
    }
   ],
   "source": [
    "print(\"Feature Matrix Shape:\", feature_matrix.shape)\n",
    "desc = feature_matrix.describe(include='all').T\n",
    "desc['percent_missing'] = (feature_matrix['SK_ID_CURR'].size - desc['count'])*100/feature_matrix['SK_ID_CURR'].size\n",
    "desc = desc[desc['count']<feature_matrix['SK_ID_CURR'].size][['count','percent_missing']]\n",
    "print(\"Cleaned_Application_Data has {} columns with missing data out of total {} columns\".format(desc.shape[0], \n",
    "      feature_matrix.columns.size))"
   ]
  },
  {
   "cell_type": "code",
   "execution_count": 5,
   "metadata": {},
   "outputs": [
    {
     "name": "stdout",
     "output_type": "stream",
     "text": [
      "feature_matrix shape before one hot: (356255, 459)\n",
      "feature_matrix shape after one hot: (356255, 641)\n"
     ]
    }
   ],
   "source": [
    "feature_matrix['missing_columns'] = feature_matrix.isnull().sum(axis=1)\n",
    "feature_matrix['missing_columns'] = pd.Categorical(feature_matrix['missing_columns'], \n",
    "            feature_matrix['missing_columns'].unique())\n",
    "feature_matrix.fillna(0, inplace=True)\n",
    "print(\"feature_matrix shape before one hot:\", feature_matrix.shape)\n",
    "feature_matrix = pd.get_dummies(feature_matrix)\n",
    "print(\"feature_matrix shape after one hot:\", feature_matrix.shape)"
   ]
  },
  {
   "cell_type": "code",
   "execution_count": 37,
   "metadata": {},
   "outputs": [],
   "source": [
    "from sklearn.preprocessing import StandardScaler\n",
    "feature_matrix_std = StandardScaler().fit_transform(feature_matrix.drop('SK_ID_CURR', axis=1))\n",
    "feature_matrix_std = pd.DataFrame(feature_matrix_std)"
   ]
  },
  {
   "cell_type": "code",
   "execution_count": 38,
   "metadata": {},
   "outputs": [],
   "source": [
    "feature_samp = feature_matrix_std.sample(frac=0.2)"
   ]
  },
  {
   "cell_type": "code",
   "execution_count": 10,
   "metadata": {
    "scrolled": false
   },
   "outputs": [
    {
     "ename": "MemoryError",
     "evalue": "",
     "output_type": "error",
     "traceback": [
      "\u001b[0;31m---------------------------------------------------------------------------\u001b[0m",
      "\u001b[0;31mMemoryError\u001b[0m                               Traceback (most recent call last)",
      "\u001b[0;32m<ipython-input-10-c794716ed43b>\u001b[0m in \u001b[0;36m<module>\u001b[0;34m()\u001b[0m\n\u001b[1;32m     30\u001b[0m     \u001b[0;31m# This gives a perspective into the density and separation of the formed\u001b[0m\u001b[0;34m\u001b[0m\u001b[0;34m\u001b[0m\u001b[0m\n\u001b[1;32m     31\u001b[0m     \u001b[0;31m# clusters\u001b[0m\u001b[0;34m\u001b[0m\u001b[0;34m\u001b[0m\u001b[0m\n\u001b[0;32m---> 32\u001b[0;31m     \u001b[0msilhouette_avg\u001b[0m \u001b[0;34m=\u001b[0m \u001b[0msilhouette_score\u001b[0m\u001b[0;34m(\u001b[0m\u001b[0mfeature_samp\u001b[0m\u001b[0;34m,\u001b[0m \u001b[0mcluster_labels\u001b[0m\u001b[0;34m)\u001b[0m\u001b[0;34m\u001b[0m\u001b[0m\n\u001b[0m\u001b[1;32m     33\u001b[0m     print(\"For n_clusters =\", n_clusters,\n\u001b[1;32m     34\u001b[0m           \"The average silhouette_score is :\", silhouette_avg)\n",
      "\u001b[0;32m~/miniconda3/lib/python3.6/site-packages/sklearn/metrics/cluster/unsupervised.py\u001b[0m in \u001b[0;36msilhouette_score\u001b[0;34m(X, labels, metric, sample_size, random_state, **kwds)\u001b[0m\n\u001b[1;32m     99\u001b[0m         \u001b[0;32melse\u001b[0m\u001b[0;34m:\u001b[0m\u001b[0;34m\u001b[0m\u001b[0m\n\u001b[1;32m    100\u001b[0m             \u001b[0mX\u001b[0m\u001b[0;34m,\u001b[0m \u001b[0mlabels\u001b[0m \u001b[0;34m=\u001b[0m \u001b[0mX\u001b[0m\u001b[0;34m[\u001b[0m\u001b[0mindices\u001b[0m\u001b[0;34m]\u001b[0m\u001b[0;34m,\u001b[0m \u001b[0mlabels\u001b[0m\u001b[0;34m[\u001b[0m\u001b[0mindices\u001b[0m\u001b[0;34m]\u001b[0m\u001b[0;34m\u001b[0m\u001b[0m\n\u001b[0;32m--> 101\u001b[0;31m     \u001b[0;32mreturn\u001b[0m \u001b[0mnp\u001b[0m\u001b[0;34m.\u001b[0m\u001b[0mmean\u001b[0m\u001b[0;34m(\u001b[0m\u001b[0msilhouette_samples\u001b[0m\u001b[0;34m(\u001b[0m\u001b[0mX\u001b[0m\u001b[0;34m,\u001b[0m \u001b[0mlabels\u001b[0m\u001b[0;34m,\u001b[0m \u001b[0mmetric\u001b[0m\u001b[0;34m=\u001b[0m\u001b[0mmetric\u001b[0m\u001b[0;34m,\u001b[0m \u001b[0;34m**\u001b[0m\u001b[0mkwds\u001b[0m\u001b[0;34m)\u001b[0m\u001b[0;34m)\u001b[0m\u001b[0;34m\u001b[0m\u001b[0m\n\u001b[0m\u001b[1;32m    102\u001b[0m \u001b[0;34m\u001b[0m\u001b[0m\n\u001b[1;32m    103\u001b[0m \u001b[0;34m\u001b[0m\u001b[0m\n",
      "\u001b[0;32m~/miniconda3/lib/python3.6/site-packages/sklearn/metrics/cluster/unsupervised.py\u001b[0m in \u001b[0;36msilhouette_samples\u001b[0;34m(X, labels, metric, **kwds)\u001b[0m\n\u001b[1;32m    184\u001b[0m         \u001b[0;31m# label.\u001b[0m\u001b[0;34m\u001b[0m\u001b[0;34m\u001b[0m\u001b[0m\n\u001b[1;32m    185\u001b[0m         \u001b[0mmask\u001b[0m \u001b[0;34m=\u001b[0m \u001b[0mlabels\u001b[0m \u001b[0;34m==\u001b[0m \u001b[0mcurr_label\u001b[0m\u001b[0;34m\u001b[0m\u001b[0m\n\u001b[0;32m--> 186\u001b[0;31m         \u001b[0mcurrent_distances\u001b[0m \u001b[0;34m=\u001b[0m \u001b[0mdistances\u001b[0m\u001b[0;34m[\u001b[0m\u001b[0mmask\u001b[0m\u001b[0;34m]\u001b[0m\u001b[0;34m\u001b[0m\u001b[0m\n\u001b[0m\u001b[1;32m    187\u001b[0m \u001b[0;34m\u001b[0m\u001b[0m\n\u001b[1;32m    188\u001b[0m         \u001b[0;31m# Leave out current sample.\u001b[0m\u001b[0;34m\u001b[0m\u001b[0;34m\u001b[0m\u001b[0m\n",
      "\u001b[0;31mMemoryError\u001b[0m: "
     ]
    },
    {
     "data": {
      "image/png": "[encoded data removed]",
      "text/plain": [
       "<Figure size 1296x504 with 2 Axes>"
      ]
     },
     "metadata": {},
     "output_type": "display_data"
    }
   ],
   "source": [
    "from sklearn.cluster import KMeans\n",
    "from sklearn.metrics import silhouette_samples, silhouette_score\n",
    "\n",
    "import matplotlib.pyplot as plt\n",
    "import matplotlib.cm as cm\n",
    "import numpy as np\n",
    "\n",
    "\n",
    "range_n_clusters = [3, 4, 5, 8, 10, 12]\n",
    "\n",
    "for n_clusters in range_n_clusters:\n",
    "    # Create a subplot with 1 row and 2 columns\n",
    "    fig, (ax1, ax2) = plt.subplots(1, 2)\n",
    "    fig.set_size_inches(18, 7)\n",
    "\n",
    "    # The 1st subplot is the silhouette plot\n",
    "    # The silhouette coefficient can range from -1, 1 but in this example all\n",
    "    # lie within [-0.1, 1]\n",
    "    ax1.set_xlim([-0.1, 1])\n",
    "    # The (n_clusters+1)*10 is for inserting blank space between silhouette\n",
    "    # plots of individual clusters, to demarcate them clearly.\n",
    "    ax1.set_ylim([0, len(feature_samp) + (n_clusters + 1) * 10])\n",
    "\n",
    "    # Initialize the clusterer with n_clusters value and a random generator\n",
    "    # seed of 10 for reproducibility.\n",
    "    clusterer = KMeans(n_clusters=n_clusters, random_state=10)\n",
    "    cluster_labels = clusterer.fit_predict(feature_samp)\n",
    "\n",
    "    # The silhouette_score gives the average value for all the samples.\n",
    "    # This gives a perspective into the density and separation of the formed\n",
    "    # clusters\n",
    "    silhouette_avg = silhouette_score(feature_samp, cluster_labels)\n",
    "    print(\"For n_clusters =\", n_clusters,\n",
    "          \"The average silhouette_score is :\", silhouette_avg)\n",
    "\n",
    "    # Compute the silhouette scores for each sample\n",
    "    sample_silhouette_values = silhouette_samples(feature_samp, cluster_labels)\n",
    "\n",
    "    y_lower = 10\n",
    "    for i in range(n_clusters):\n",
    "        # Aggregate the silhouette scores for samples belonging to\n",
    "        # cluster i, and sort them\n",
    "        ith_cluster_silhouette_values = \\\n",
    "            sample_silhouette_values[cluster_labels == i]\n",
    "\n",
    "        ith_cluster_silhouette_values.sort()\n",
    "\n",
    "        size_cluster_i = ith_cluster_silhouette_values.shape[0]\n",
    "        y_upper = y_lower + size_cluster_i\n",
    "\n",
    "        color = cm.nipy_spectral(float(i) / n_clusters)\n",
    "        ax1.fill_betweenx(np.arange(y_lower, y_upper),\n",
    "                          0, ith_cluster_silhouette_values,\n",
    "                          facecolor=color, edgecolor=color, alpha=0.7)\n",
    "\n",
    "        # Label the silhouette plots with their cluster numbers at the middle\n",
    "        ax1.text(-0.05, y_lower + 0.5 * size_cluster_i, str(i))\n",
    "\n",
    "        # Compute the new y_lower for next plot\n",
    "        y_lower = y_upper + 10  # 10 for the 0 samples\n",
    "\n",
    "    ax1.set_title(\"The silhouette plot for the various clusters.\")\n",
    "    ax1.set_xlabel(\"The silhouette coefficient values\")\n",
    "    ax1.set_ylabel(\"Cluster label\")\n",
    "\n",
    "    # The vertical line for average silhouette score of all the values\n",
    "    ax1.axvline(x=silhouette_avg, color=\"red\", linestyle=\"--\")\n",
    "\n",
    "    ax1.set_yticks([])  # Clear the yaxis labels / ticks\n",
    "    ax1.set_xticks([-0.1, 0, 0.2, 0.4, 0.6, 0.8, 1])\n",
    "\n",
    "    # 2nd Plot showing the actual clusters formed\n",
    "    colors = cm.nipy_spectral(cluster_labels.astype(float) / n_clusters)\n",
    "    ax2.scatter(X[:, 0], X[:, 1], marker='.', s=30, lw=0, alpha=0.7,\n",
    "                c=colors, edgecolor='k')\n",
    "\n",
    "    # Labeling the clusters\n",
    "    centers = clusterer.cluster_centers_\n",
    "    # Draw white circles at cluster centers\n",
    "    ax2.scatter(centers[:, 0], centers[:, 1], marker='o',\n",
    "                c=\"white\", alpha=1, s=200, edgecolor='k')\n",
    "\n",
    "    for i, c in enumerate(centers):\n",
    "        ax2.scatter(c[0], c[1], marker='$%d$' % i, alpha=1,\n",
    "                    s=50, edgecolor='k')\n",
    "\n",
    "    ax2.set_title(\"The visualization of the clustered data.\")\n",
    "    ax2.set_xlabel(\"Feature space for the 1st feature\")\n",
    "    ax2.set_ylabel(\"Feature space for the 2nd feature\")\n",
    "\n",
    "    plt.subtitle((\"Silhouette analysis for KMeans clustering on sample data \"\n",
    "                  \"with n_clusters = %d\" % n_clusters),\n",
    "                 fontsize=14, fontweight='bold')\n",
    "\n",
    "    plt.show()"
   ]
  },
  {
   "cell_type": "code",
   "execution_count": 8,
   "metadata": {
    "scrolled": false
   },
   "outputs": [
    {
     "data": {
      "text/plain": [
       "<seaborn.matrix.ClusterGrid at 0x7f21ba00c780>"
      ]
     },
     "execution_count": 8,
     "metadata": {},
     "output_type": "execute_result"
    },
    {
     "data": {
      "image/png": "[encoded data removed]",
      "text/plain": [
       "<Figure size 720x720 with 4 Axes>"
      ]
     },
     "metadata": {},
     "output_type": "display_data"
    }
   ],
   "source": [
    "import seaborn as sns\n",
    "cmap = sns.cubehelix_palette(as_cmap=True, rot=-.3, light=1)\n",
    "sns.clustermap(feature_samp, cmap=cmap, linewidths=.5)"
   ]
  },
  {
   "cell_type": "code",
   "execution_count": 39,
   "metadata": {},
   "outputs": [
    {
     "data": {
      "image/png": "[encoded data removed]",
      "text/plain": [
       "<Figure size 432x288 with 1 Axes>"
      ]
     },
     "metadata": {},
     "output_type": "display_data"
    }
   ],
   "source": [
    "from sklearn.cluster import KMeans\n",
    "from scipy.spatial.distance import cdist, pdist\n",
    "\n",
    "cluster_range = [ 1, 2, 3, 4, 5, 6, 7, 8, 10, 13, 15, 18, 20, 21, 22,  23, 25, 27, 29, 30]\n",
    "cluster_errors = []\n",
    "\n",
    "\n",
    "kMeansVar = [KMeans(n_clusters=k).fit(feature_samp) for k in cluster_range]\n",
    "centroids = [X.cluster_centers_ for X in kMeansVar]\n",
    "cluster_errors = [X.inertia_ for X in kMeansVar]\n",
    "k_euclid = [cdist(feature_samp, cent) for cent in centroids]\n",
    "dist = [np.min(ke, axis=1) for ke in k_euclid]\n",
    "wcss = [sum(d**2) for d in dist]\n",
    "tss = sum(pdist(feature_samp)**2)/feature_samp.shape[0]\n",
    "bss = tss - wcss\n",
    "plt.plot(cluster_range, bss/tss*100)\n",
    "plt.title('Explained Variance', fontsize=20)\n",
    "plt.xlabel('Number of Clusters', fontsize=16)\n",
    "plt.ylabel('Percent of Variance Expalined', fontsize=16)\n",
    "plt.show()"
   ]
  },
  {
   "cell_type": "code",
   "execution_count": 40,
   "metadata": {},
   "outputs": [
    {
     "data": {
      "text/plain": [
       "Text(0,0.5,'Error')"
      ]
     },
     "execution_count": 40,
     "metadata": {},
     "output_type": "execute_result"
    },
    {
     "data": {
      "image/png": "[encoded data removed]",
      "text/plain": [
       "<Figure size 864x432 with 1 Axes>"
      ]
     },
     "metadata": {},
     "output_type": "display_data"
    }
   ],
   "source": [
    "clusters_df  = pd.DataFrame( { \"num_clusters\":cluster_range, \"cluster_errors\": cluster_errors } )\n",
    "plt.figure(figsize=(12,6))\n",
    "plt.plot( clusters_df.num_clusters, clusters_df.cluster_errors, marker = \"o\" )\n",
    "plt.title('Determination of optimum number of Clusters', fontsize=20)\n",
    "plt.xlabel('Number of Clusters', fontsize=16)\n",
    "plt.ylabel('Error', fontsize=16)"
   ]
  },
  {
   "cell_type": "code",
   "execution_count": 116,
   "metadata": {},
   "outputs": [
    {
     "data": {
      "text/plain": [
       "KMeans(algorithm='auto', copy_x=True, init='k-means++', max_iter=300,\n",
       "    n_clusters=6, n_init=10, n_jobs=1, precompute_distances='auto',\n",
       "    random_state=None, tol=0.0001, verbose=0)"
      ]
     },
     "execution_count": 116,
     "metadata": {},
     "output_type": "execute_result"
    }
   ],
   "source": [
    "kmean_model = kMeansVar[5]\n",
    "kmean_model"
   ]
  },
  {
   "cell_type": "code",
   "execution_count": 117,
   "metadata": {},
   "outputs": [
    {
     "data": {
      "text/html": [
       "<div>\n",
       "<style scoped>\n",
       "    .dataframe tbody tr th:only-of-type {\n",
       "        vertical-align: middle;\n",
       "    }\n",
       "\n",
       "    .dataframe tbody tr th {\n",
       "        vertical-align: top;\n",
       "    }\n",
       "\n",
       "    .dataframe thead th {\n",
       "        text-align: right;\n",
       "    }\n",
       "</style>\n",
       "<table border=\"1\" class=\"dataframe\">\n",
       "  <thead>\n",
       "    <tr style=\"text-align: right;\">\n",
       "      <th></th>\n",
       "      <th>0</th>\n",
       "      <th>1</th>\n",
       "      <th>2</th>\n",
       "      <th>3</th>\n",
       "      <th>4</th>\n",
       "      <th>5</th>\n",
       "    </tr>\n",
       "  </thead>\n",
       "  <tbody>\n",
       "    <tr>\n",
       "      <th>0</th>\n",
       "      <td>-0.144234</td>\n",
       "      <td>-0.214580</td>\n",
       "      <td>-0.040748</td>\n",
       "      <td>0.056110</td>\n",
       "      <td>-0.483150</td>\n",
       "      <td>-0.016562</td>\n",
       "    </tr>\n",
       "    <tr>\n",
       "      <th>1</th>\n",
       "      <td>-0.395535</td>\n",
       "      <td>-0.353617</td>\n",
       "      <td>-0.157497</td>\n",
       "      <td>-0.073169</td>\n",
       "      <td>-0.514877</td>\n",
       "      <td>-0.029724</td>\n",
       "    </tr>\n",
       "    <tr>\n",
       "      <th>2</th>\n",
       "      <td>-0.093768</td>\n",
       "      <td>0.114483</td>\n",
       "      <td>0.097141</td>\n",
       "      <td>0.122834</td>\n",
       "      <td>0.066204</td>\n",
       "      <td>0.009266</td>\n",
       "    </tr>\n",
       "    <tr>\n",
       "      <th>3</th>\n",
       "      <td>-0.206876</td>\n",
       "      <td>-0.338917</td>\n",
       "      <td>-0.050434</td>\n",
       "      <td>0.003818</td>\n",
       "      <td>-0.652830</td>\n",
       "      <td>-0.024336</td>\n",
       "    </tr>\n",
       "    <tr>\n",
       "      <th>4</th>\n",
       "      <td>-0.321864</td>\n",
       "      <td>-0.419776</td>\n",
       "      <td>-0.125035</td>\n",
       "      <td>-0.056546</td>\n",
       "      <td>-0.728525</td>\n",
       "      <td>-0.030525</td>\n",
       "    </tr>\n",
       "  </tbody>\n",
       "</table>\n",
       "</div>"
      ],
      "text/plain": [
       "          0         1         2         3         4         5\n",
       "0 -0.144234 -0.214580 -0.040748  0.056110 -0.483150 -0.016562\n",
       "1 -0.395535 -0.353617 -0.157497 -0.073169 -0.514877 -0.029724\n",
       "2 -0.093768  0.114483  0.097141  0.122834  0.066204  0.009266\n",
       "3 -0.206876 -0.338917 -0.050434  0.003818 -0.652830 -0.024336\n",
       "4 -0.321864 -0.419776 -0.125035 -0.056546 -0.728525 -0.030525"
      ]
     },
     "execution_count": 117,
     "metadata": {},
     "output_type": "execute_result"
    }
   ],
   "source": [
    "feature_cluster = pd.DataFrame(kmean_model.transform(feature_matrix_std))\n",
    "feature_cluster = pd.DataFrame(StandardScaler().fit_transform(feature_cluster))\n",
    "feature_cluster.head()"
   ]
  },
  {
   "cell_type": "code",
   "execution_count": 51,
   "metadata": {},
   "outputs": [
    {
     "name": "stdout",
     "output_type": "stream",
     "text": [
      "(356255, 646) (356255, 640) (356255, 6)\n"
     ]
    }
   ],
   "source": [
    "print(feature_matrix_std.join(feature_cluster, rsuffix='_cluster').shape, feature_matrix_std.shape, feature_cluster.shape)"
   ]
  },
  {
   "cell_type": "code",
   "execution_count": 119,
   "metadata": {},
   "outputs": [
    {
     "data": {
      "text/html": [
       "<div>\n",
       "<style scoped>\n",
       "    .dataframe tbody tr th:only-of-type {\n",
       "        vertical-align: middle;\n",
       "    }\n",
       "\n",
       "    .dataframe tbody tr th {\n",
       "        vertical-align: top;\n",
       "    }\n",
       "\n",
       "    .dataframe thead th {\n",
       "        text-align: right;\n",
       "    }\n",
       "</style>\n",
       "<table border=\"1\" class=\"dataframe\">\n",
       "  <thead>\n",
       "    <tr style=\"text-align: right;\">\n",
       "      <th></th>\n",
       "      <th>SK_ID_CURR</th>\n",
       "      <th>0</th>\n",
       "      <th>1</th>\n",
       "      <th>2</th>\n",
       "      <th>3</th>\n",
       "      <th>4</th>\n",
       "      <th>5</th>\n",
       "    </tr>\n",
       "  </thead>\n",
       "  <tbody>\n",
       "    <tr>\n",
       "      <th>0</th>\n",
       "      <td>100001</td>\n",
       "      <td>-0.144234</td>\n",
       "      <td>-0.214580</td>\n",
       "      <td>-0.040748</td>\n",
       "      <td>0.056110</td>\n",
       "      <td>-0.483150</td>\n",
       "      <td>-0.016562</td>\n",
       "    </tr>\n",
       "    <tr>\n",
       "      <th>1</th>\n",
       "      <td>100002</td>\n",
       "      <td>-0.395535</td>\n",
       "      <td>-0.353617</td>\n",
       "      <td>-0.157497</td>\n",
       "      <td>-0.073169</td>\n",
       "      <td>-0.514877</td>\n",
       "      <td>-0.029724</td>\n",
       "    </tr>\n",
       "    <tr>\n",
       "      <th>2</th>\n",
       "      <td>100003</td>\n",
       "      <td>-0.093768</td>\n",
       "      <td>0.114483</td>\n",
       "      <td>0.097141</td>\n",
       "      <td>0.122834</td>\n",
       "      <td>0.066204</td>\n",
       "      <td>0.009266</td>\n",
       "    </tr>\n",
       "    <tr>\n",
       "      <th>3</th>\n",
       "      <td>100004</td>\n",
       "      <td>-0.206876</td>\n",
       "      <td>-0.338917</td>\n",
       "      <td>-0.050434</td>\n",
       "      <td>0.003818</td>\n",
       "      <td>-0.652830</td>\n",
       "      <td>-0.024336</td>\n",
       "    </tr>\n",
       "    <tr>\n",
       "      <th>4</th>\n",
       "      <td>100005</td>\n",
       "      <td>-0.321864</td>\n",
       "      <td>-0.419776</td>\n",
       "      <td>-0.125035</td>\n",
       "      <td>-0.056546</td>\n",
       "      <td>-0.728525</td>\n",
       "      <td>-0.030525</td>\n",
       "    </tr>\n",
       "  </tbody>\n",
       "</table>\n",
       "</div>"
      ],
      "text/plain": [
       "   SK_ID_CURR         0         1         2         3         4         5\n",
       "0      100001 -0.144234 -0.214580 -0.040748  0.056110 -0.483150 -0.016562\n",
       "1      100002 -0.395535 -0.353617 -0.157497 -0.073169 -0.514877 -0.029724\n",
       "2      100003 -0.093768  0.114483  0.097141  0.122834  0.066204  0.009266\n",
       "3      100004 -0.206876 -0.338917 -0.050434  0.003818 -0.652830 -0.024336\n",
       "4      100005 -0.321864 -0.419776 -0.125035 -0.056546 -0.728525 -0.030525"
      ]
     },
     "execution_count": 119,
     "metadata": {},
     "output_type": "execute_result"
    }
   ],
   "source": [
    "feature_clustered_matrix = pd.DataFrame(feature_matrix['SK_ID_CURR']).join(feature_cluster)\n",
    "feature_clustered_matrix.head()"
   ]
  },
  {
   "cell_type": "code",
   "execution_count": 120,
   "metadata": {},
   "outputs": [
    {
     "name": "stdout",
     "output_type": "stream",
     "text": [
      "Shape before scaling (356255, 127)\n",
      "Shape after scaling (356255, 257)\n",
      "Shape after scaling with SK_ID and TARGET fields: (356255, 259)\n",
      "Shape after joining with feature_cluster_matrix dataset: (356255, 265)\n",
      "Shape after droping the Kaggle test data records (307511, 265)\n"
     ]
    }
   ],
   "source": [
    "print(\"Shape before scaling\", df_kaggle.shape)\n",
    "df_kaggle_std = pd.DataFrame(StandardScaler().fit_transform(pd.get_dummies(df_kaggle.drop(['SK_ID_CURR', 'TARGET'], \n",
    "                                    axis=1)).values))\n",
    "print(\"Shape after scaling\", df_kaggle_std.shape)\n",
    "df_kaggle_std = df_kaggle_std.join(df_kaggle[['SK_ID_CURR', 'TARGET']])\n",
    "print(\"Shape after scaling with SK_ID and TARGET fields:\", df_kaggle_std.shape)\n",
    "df_kaggle_std = df_kaggle_std.merge(feature_clustered_matrix, on='SK_ID_CURR', how='outer', suffixes=('','_cluster'))\n",
    "print(\"Shape after joining with feature_cluster_matrix dataset:\", df_kaggle_std.shape)\n",
    "df_kaggle_std = df_kaggle_std[df_kaggle_std.TARGET != -1] # \n",
    "print('Shape after droping the Kaggle test data records', df_kaggle_std.shape)"
   ]
  },
  {
   "cell_type": "code",
   "execution_count": 121,
   "metadata": {},
   "outputs": [
    {
     "data": {
      "text/html": [
       "<div>\n",
       "<style scoped>\n",
       "    .dataframe tbody tr th:only-of-type {\n",
       "        vertical-align: middle;\n",
       "    }\n",
       "\n",
       "    .dataframe tbody tr th {\n",
       "        vertical-align: top;\n",
       "    }\n",
       "\n",
       "    .dataframe thead th {\n",
       "        text-align: right;\n",
       "    }\n",
       "</style>\n",
       "<table border=\"1\" class=\"dataframe\">\n",
       "  <thead>\n",
       "    <tr style=\"text-align: right;\">\n",
       "      <th></th>\n",
       "      <th>0</th>\n",
       "      <th>1</th>\n",
       "      <th>2</th>\n",
       "      <th>3</th>\n",
       "      <th>4</th>\n",
       "      <th>5</th>\n",
       "      <th>6</th>\n",
       "      <th>7</th>\n",
       "      <th>8</th>\n",
       "      <th>9</th>\n",
       "      <th>...</th>\n",
       "      <th>255</th>\n",
       "      <th>256</th>\n",
       "      <th>SK_ID_CURR</th>\n",
       "      <th>TARGET</th>\n",
       "      <th>0_cluster</th>\n",
       "      <th>1_cluster</th>\n",
       "      <th>2_cluster</th>\n",
       "      <th>3_cluster</th>\n",
       "      <th>4_cluster</th>\n",
       "      <th>5_cluster</th>\n",
       "    </tr>\n",
       "  </thead>\n",
       "  <tbody>\n",
       "    <tr>\n",
       "      <th>0</th>\n",
       "      <td>-0.575137</td>\n",
       "      <td>0.144890</td>\n",
       "      <td>-0.454489</td>\n",
       "      <td>-0.184755</td>\n",
       "      <td>-0.482247</td>\n",
       "      <td>-0.152069</td>\n",
       "      <td>1.509648</td>\n",
       "      <td>0.634953</td>\n",
       "      <td>0.378681</td>\n",
       "      <td>0.581113</td>\n",
       "      <td>...</td>\n",
       "      <td>-0.392553</td>\n",
       "      <td>0.392553</td>\n",
       "      <td>100002</td>\n",
       "      <td>1</td>\n",
       "      <td>-0.395535</td>\n",
       "      <td>-0.353617</td>\n",
       "      <td>-0.157497</td>\n",
       "      <td>-0.073169</td>\n",
       "      <td>-0.514877</td>\n",
       "      <td>-0.029724</td>\n",
       "    </tr>\n",
       "    <tr>\n",
       "      <th>1</th>\n",
       "      <td>-0.575137</td>\n",
       "      <td>0.446895</td>\n",
       "      <td>1.770432</td>\n",
       "      <td>0.561651</td>\n",
       "      <td>1.643532</td>\n",
       "      <td>-1.248730</td>\n",
       "      <td>-0.166044</td>\n",
       "      <td>0.580295</td>\n",
       "      <td>1.076732</td>\n",
       "      <td>1.786068</td>\n",
       "      <td>...</td>\n",
       "      <td>-0.392553</td>\n",
       "      <td>0.392553</td>\n",
       "      <td>100003</td>\n",
       "      <td>0</td>\n",
       "      <td>-0.093768</td>\n",
       "      <td>0.114483</td>\n",
       "      <td>0.097141</td>\n",
       "      <td>0.122834</td>\n",
       "      <td>0.066204</td>\n",
       "      <td>0.009266</td>\n",
       "    </tr>\n",
       "    <tr>\n",
       "      <th>2</th>\n",
       "      <td>-0.575137</td>\n",
       "      <td>-0.459119</td>\n",
       "      <td>-1.135828</td>\n",
       "      <td>-1.403008</td>\n",
       "      <td>-1.072059</td>\n",
       "      <td>-0.782253</td>\n",
       "      <td>-0.689353</td>\n",
       "      <td>0.675822</td>\n",
       "      <td>0.205160</td>\n",
       "      <td>0.310344</td>\n",
       "      <td>...</td>\n",
       "      <td>-0.392553</td>\n",
       "      <td>0.392553</td>\n",
       "      <td>100004</td>\n",
       "      <td>0</td>\n",
       "      <td>-0.206876</td>\n",
       "      <td>-0.338917</td>\n",
       "      <td>-0.050434</td>\n",
       "      <td>0.003818</td>\n",
       "      <td>-0.652830</td>\n",
       "      <td>-0.024336</td>\n",
       "    </tr>\n",
       "    <tr>\n",
       "      <th>3</th>\n",
       "      <td>-0.575137</td>\n",
       "      <td>-0.157114</td>\n",
       "      <td>-0.690088</td>\n",
       "      <td>0.153632</td>\n",
       "      <td>-0.629700</td>\n",
       "      <td>-0.926918</td>\n",
       "      <td>-0.679947</td>\n",
       "      <td>0.396681</td>\n",
       "      <td>-1.374952</td>\n",
       "      <td>0.372272</td>\n",
       "      <td>...</td>\n",
       "      <td>2.547427</td>\n",
       "      <td>-2.547427</td>\n",
       "      <td>100006</td>\n",
       "      <td>0</td>\n",
       "      <td>0.002886</td>\n",
       "      <td>0.012529</td>\n",
       "      <td>0.166818</td>\n",
       "      <td>0.054766</td>\n",
       "      <td>0.253209</td>\n",
       "      <td>0.009099</td>\n",
       "    </tr>\n",
       "    <tr>\n",
       "      <th>4</th>\n",
       "      <td>-0.575137</td>\n",
       "      <td>-0.217515</td>\n",
       "      <td>-0.187564</td>\n",
       "      <td>-0.377159</td>\n",
       "      <td>-0.039889</td>\n",
       "      <td>0.556665</td>\n",
       "      <td>-0.892620</td>\n",
       "      <td>0.396781</td>\n",
       "      <td>0.190700</td>\n",
       "      <td>-0.300368</td>\n",
       "      <td>...</td>\n",
       "      <td>-0.392553</td>\n",
       "      <td>0.392553</td>\n",
       "      <td>100007</td>\n",
       "      <td>0</td>\n",
       "      <td>-0.684982</td>\n",
       "      <td>-0.448731</td>\n",
       "      <td>-0.308418</td>\n",
       "      <td>-0.155275</td>\n",
       "      <td>-0.468760</td>\n",
       "      <td>-0.021367</td>\n",
       "    </tr>\n",
       "  </tbody>\n",
       "</table>\n",
       "<p>5 rows × 265 columns</p>\n",
       "</div>"
      ],
      "text/plain": [
       "          0         1         2         3         4         5         6  \\\n",
       "0 -0.575137  0.144890 -0.454489 -0.184755 -0.482247 -0.152069  1.509648   \n",
       "1 -0.575137  0.446895  1.770432  0.561651  1.643532 -1.248730 -0.166044   \n",
       "2 -0.575137 -0.459119 -1.135828 -1.403008 -1.072059 -0.782253 -0.689353   \n",
       "3 -0.575137 -0.157114 -0.690088  0.153632 -0.629700 -0.926918 -0.679947   \n",
       "4 -0.575137 -0.217515 -0.187564 -0.377159 -0.039889  0.556665 -0.892620   \n",
       "\n",
       "          7         8         9    ...           255       256  SK_ID_CURR  \\\n",
       "0  0.634953  0.378681  0.581113    ...     -0.392553  0.392553      100002   \n",
       "1  0.580295  1.076732  1.786068    ...     -0.392553  0.392553      100003   \n",
       "2  0.675822  0.205160  0.310344    ...     -0.392553  0.392553      100004   \n",
       "3  0.396681 -1.374952  0.372272    ...      2.547427 -2.547427      100006   \n",
       "4  0.396781  0.190700 -0.300368    ...     -0.392553  0.392553      100007   \n",
       "\n",
       "   TARGET  0_cluster  1_cluster  2_cluster  3_cluster  4_cluster  5_cluster  \n",
       "0       1  -0.395535  -0.353617  -0.157497  -0.073169  -0.514877  -0.029724  \n",
       "1       0  -0.093768   0.114483   0.097141   0.122834   0.066204   0.009266  \n",
       "2       0  -0.206876  -0.338917  -0.050434   0.003818  -0.652830  -0.024336  \n",
       "3       0   0.002886   0.012529   0.166818   0.054766   0.253209   0.009099  \n",
       "4       0  -0.684982  -0.448731  -0.308418  -0.155275  -0.468760  -0.021367  \n",
       "\n",
       "[5 rows x 265 columns]"
      ]
     },
     "execution_count": 121,
     "metadata": {},
     "output_type": "execute_result"
    }
   ],
   "source": [
    "df_kaggle_std.head()"
   ]
  },
  {
   "cell_type": "code",
   "execution_count": 122,
   "metadata": {},
   "outputs": [
    {
     "data": {
      "image/png": "[encoded data removed]",
      "text/plain": [
       "<Figure size 792x648 with 2 Axes>"
      ]
     },
     "metadata": {},
     "output_type": "display_data"
    }
   ],
   "source": [
    "corr = df_kaggle_std[['TARGET',  '0_cluster', '1_cluster',  '2_cluster',  '3_cluster',  '4_cluster',  \n",
    "    '5_cluster']].corr()\n",
    "\n",
    "# plot correlation matrix\n",
    "# Generate a mask for the upper triangle\n",
    "mask = np.zeros_like(corr, dtype=np.bool)\n",
    "mask[np.triu_indices_from(mask)] = True\n",
    "\n",
    "# Set up the matplotlib figure\n",
    "f, ax = plt.subplots(figsize=(11, 9))\n",
    "\n",
    "# Generate a custom diverging colormap\n",
    "cmap = sns.diverging_palette(220, 10, as_cmap=True)\n",
    "\n",
    "# Draw the heatmap with the mask and correct aspect ratio\n",
    "sns.heatmap(corr, mask=mask, cmap=cmap, center=0,\n",
    "            square=True, linewidths=.5, cbar_kws={\"shrink\": .5})\n",
    "\n",
    "plt.title(\"Correlation Matrix Plot\", fontsize=16)\n",
    "plt.show()"
   ]
  },
  {
   "cell_type": "code",
   "execution_count": 123,
   "metadata": {},
   "outputs": [
    {
     "data": {
      "text/plain": [
       "KMeans(algorithm='auto', copy_x=True, init='k-means++', max_iter=300,\n",
       "    n_clusters=6, n_init=10, n_jobs=1, precompute_distances='auto',\n",
       "    random_state=None, tol=0.0001, verbose=0)"
      ]
     },
     "execution_count": 123,
     "metadata": {},
     "output_type": "execute_result"
    }
   ],
   "source": [
    "kmean_model = kMeansVar[5]\n",
    "kmean_model"
   ]
  },
  {
   "cell_type": "code",
   "execution_count": 124,
   "metadata": {},
   "outputs": [
    {
     "data": {
      "text/html": [
       "<div>\n",
       "<style scoped>\n",
       "    .dataframe tbody tr th:only-of-type {\n",
       "        vertical-align: middle;\n",
       "    }\n",
       "\n",
       "    .dataframe tbody tr th {\n",
       "        vertical-align: top;\n",
       "    }\n",
       "\n",
       "    .dataframe thead th {\n",
       "        text-align: right;\n",
       "    }\n",
       "</style>\n",
       "<table border=\"1\" class=\"dataframe\">\n",
       "  <thead>\n",
       "    <tr style=\"text-align: right;\">\n",
       "      <th></th>\n",
       "      <th>0_0</th>\n",
       "      <th>0_1</th>\n",
       "      <th>0_2</th>\n",
       "      <th>0_3</th>\n",
       "      <th>0_4</th>\n",
       "      <th>0_5</th>\n",
       "    </tr>\n",
       "  </thead>\n",
       "  <tbody>\n",
       "    <tr>\n",
       "      <th>0</th>\n",
       "      <td>0</td>\n",
       "      <td>0</td>\n",
       "      <td>0</td>\n",
       "      <td>0</td>\n",
       "      <td>1</td>\n",
       "      <td>0</td>\n",
       "    </tr>\n",
       "    <tr>\n",
       "      <th>1</th>\n",
       "      <td>0</td>\n",
       "      <td>0</td>\n",
       "      <td>0</td>\n",
       "      <td>0</td>\n",
       "      <td>1</td>\n",
       "      <td>0</td>\n",
       "    </tr>\n",
       "    <tr>\n",
       "      <th>2</th>\n",
       "      <td>1</td>\n",
       "      <td>0</td>\n",
       "      <td>0</td>\n",
       "      <td>0</td>\n",
       "      <td>0</td>\n",
       "      <td>0</td>\n",
       "    </tr>\n",
       "    <tr>\n",
       "      <th>3</th>\n",
       "      <td>0</td>\n",
       "      <td>0</td>\n",
       "      <td>0</td>\n",
       "      <td>0</td>\n",
       "      <td>1</td>\n",
       "      <td>0</td>\n",
       "    </tr>\n",
       "    <tr>\n",
       "      <th>4</th>\n",
       "      <td>0</td>\n",
       "      <td>0</td>\n",
       "      <td>0</td>\n",
       "      <td>0</td>\n",
       "      <td>1</td>\n",
       "      <td>0</td>\n",
       "    </tr>\n",
       "    <tr>\n",
       "      <th>5</th>\n",
       "      <td>1</td>\n",
       "      <td>0</td>\n",
       "      <td>0</td>\n",
       "      <td>0</td>\n",
       "      <td>0</td>\n",
       "      <td>0</td>\n",
       "    </tr>\n",
       "    <tr>\n",
       "      <th>6</th>\n",
       "      <td>1</td>\n",
       "      <td>0</td>\n",
       "      <td>0</td>\n",
       "      <td>0</td>\n",
       "      <td>0</td>\n",
       "      <td>0</td>\n",
       "    </tr>\n",
       "    <tr>\n",
       "      <th>7</th>\n",
       "      <td>1</td>\n",
       "      <td>0</td>\n",
       "      <td>0</td>\n",
       "      <td>0</td>\n",
       "      <td>0</td>\n",
       "      <td>0</td>\n",
       "    </tr>\n",
       "    <tr>\n",
       "      <th>8</th>\n",
       "      <td>0</td>\n",
       "      <td>0</td>\n",
       "      <td>0</td>\n",
       "      <td>0</td>\n",
       "      <td>1</td>\n",
       "      <td>0</td>\n",
       "    </tr>\n",
       "    <tr>\n",
       "      <th>9</th>\n",
       "      <td>0</td>\n",
       "      <td>0</td>\n",
       "      <td>0</td>\n",
       "      <td>0</td>\n",
       "      <td>1</td>\n",
       "      <td>0</td>\n",
       "    </tr>\n",
       "  </tbody>\n",
       "</table>\n",
       "</div>"
      ],
      "text/plain": [
       "   0_0  0_1  0_2  0_3  0_4  0_5\n",
       "0    0    0    0    0    1    0\n",
       "1    0    0    0    0    1    0\n",
       "2    1    0    0    0    0    0\n",
       "3    0    0    0    0    1    0\n",
       "4    0    0    0    0    1    0\n",
       "5    1    0    0    0    0    0\n",
       "6    1    0    0    0    0    0\n",
       "7    1    0    0    0    0    0\n",
       "8    0    0    0    0    1    0\n",
       "9    0    0    0    0    1    0"
      ]
     },
     "execution_count": 124,
     "metadata": {},
     "output_type": "execute_result"
    }
   ],
   "source": [
    "predict_cluster = pd.DataFrame(kmean_model.predict(feature_matrix_std))\n",
    "predict_cluster[0] = predict_cluster[0].astype('category')\n",
    "predict_cluster = pd.get_dummies(predict_cluster)\n",
    "predict_cluster.head(10)"
   ]
  },
  {
   "cell_type": "code",
   "execution_count": 125,
   "metadata": {},
   "outputs": [
    {
     "data": {
      "text/html": [
       "<div>\n",
       "<style scoped>\n",
       "    .dataframe tbody tr th:only-of-type {\n",
       "        vertical-align: middle;\n",
       "    }\n",
       "\n",
       "    .dataframe tbody tr th {\n",
       "        vertical-align: top;\n",
       "    }\n",
       "\n",
       "    .dataframe thead th {\n",
       "        text-align: right;\n",
       "    }\n",
       "</style>\n",
       "<table border=\"1\" class=\"dataframe\">\n",
       "  <thead>\n",
       "    <tr style=\"text-align: right;\">\n",
       "      <th></th>\n",
       "      <th>SK_ID_CURR</th>\n",
       "      <th>0_0</th>\n",
       "      <th>0_1</th>\n",
       "      <th>0_2</th>\n",
       "      <th>0_3</th>\n",
       "      <th>0_4</th>\n",
       "      <th>0_5</th>\n",
       "    </tr>\n",
       "  </thead>\n",
       "  <tbody>\n",
       "    <tr>\n",
       "      <th>0</th>\n",
       "      <td>100001</td>\n",
       "      <td>0</td>\n",
       "      <td>0</td>\n",
       "      <td>0</td>\n",
       "      <td>0</td>\n",
       "      <td>1</td>\n",
       "      <td>0</td>\n",
       "    </tr>\n",
       "    <tr>\n",
       "      <th>1</th>\n",
       "      <td>100002</td>\n",
       "      <td>0</td>\n",
       "      <td>0</td>\n",
       "      <td>0</td>\n",
       "      <td>0</td>\n",
       "      <td>1</td>\n",
       "      <td>0</td>\n",
       "    </tr>\n",
       "    <tr>\n",
       "      <th>2</th>\n",
       "      <td>100003</td>\n",
       "      <td>1</td>\n",
       "      <td>0</td>\n",
       "      <td>0</td>\n",
       "      <td>0</td>\n",
       "      <td>0</td>\n",
       "      <td>0</td>\n",
       "    </tr>\n",
       "    <tr>\n",
       "      <th>3</th>\n",
       "      <td>100004</td>\n",
       "      <td>0</td>\n",
       "      <td>0</td>\n",
       "      <td>0</td>\n",
       "      <td>0</td>\n",
       "      <td>1</td>\n",
       "      <td>0</td>\n",
       "    </tr>\n",
       "    <tr>\n",
       "      <th>4</th>\n",
       "      <td>100005</td>\n",
       "      <td>0</td>\n",
       "      <td>0</td>\n",
       "      <td>0</td>\n",
       "      <td>0</td>\n",
       "      <td>1</td>\n",
       "      <td>0</td>\n",
       "    </tr>\n",
       "  </tbody>\n",
       "</table>\n",
       "</div>"
      ],
      "text/plain": [
       "   SK_ID_CURR  0_0  0_1  0_2  0_3  0_4  0_5\n",
       "0      100001    0    0    0    0    1    0\n",
       "1      100002    0    0    0    0    1    0\n",
       "2      100003    1    0    0    0    0    0\n",
       "3      100004    0    0    0    0    1    0\n",
       "4      100005    0    0    0    0    1    0"
      ]
     },
     "execution_count": 125,
     "metadata": {},
     "output_type": "execute_result"
    }
   ],
   "source": [
    "predict_clustered_matrix = pd.DataFrame(feature_matrix['SK_ID_CURR']).join(predict_cluster)\n",
    "predict_clustered_matrix.head()"
   ]
  },
  {
   "cell_type": "code",
   "execution_count": 126,
   "metadata": {},
   "outputs": [
    {
     "name": "stdout",
     "output_type": "stream",
     "text": [
      "Shape before scaling (356255, 127)\n",
      "Shape after scaling (356255, 257)\n",
      "Shape after scaling with SK_ID and TARGET fields: (356255, 259)\n",
      "Shape after joining with predict_cluster_matrix dataset: (356255, 265)\n",
      "Shape after droping the Kaggle test data records (307511, 265)\n"
     ]
    },
    {
     "data": {
      "text/html": [
       "<div>\n",
       "<style scoped>\n",
       "    .dataframe tbody tr th:only-of-type {\n",
       "        vertical-align: middle;\n",
       "    }\n",
       "\n",
       "    .dataframe tbody tr th {\n",
       "        vertical-align: top;\n",
       "    }\n",
       "\n",
       "    .dataframe thead th {\n",
       "        text-align: right;\n",
       "    }\n",
       "</style>\n",
       "<table border=\"1\" class=\"dataframe\">\n",
       "  <thead>\n",
       "    <tr style=\"text-align: right;\">\n",
       "      <th></th>\n",
       "      <th>0</th>\n",
       "      <th>1</th>\n",
       "      <th>2</th>\n",
       "      <th>3</th>\n",
       "      <th>4</th>\n",
       "      <th>5</th>\n",
       "      <th>6</th>\n",
       "      <th>7</th>\n",
       "      <th>8</th>\n",
       "      <th>9</th>\n",
       "      <th>...</th>\n",
       "      <th>255</th>\n",
       "      <th>256</th>\n",
       "      <th>SK_ID_CURR</th>\n",
       "      <th>TARGET</th>\n",
       "      <th>0_0</th>\n",
       "      <th>0_1</th>\n",
       "      <th>0_2</th>\n",
       "      <th>0_3</th>\n",
       "      <th>0_4</th>\n",
       "      <th>0_5</th>\n",
       "    </tr>\n",
       "  </thead>\n",
       "  <tbody>\n",
       "    <tr>\n",
       "      <th>0</th>\n",
       "      <td>-0.575137</td>\n",
       "      <td>0.144890</td>\n",
       "      <td>-0.454489</td>\n",
       "      <td>-0.184755</td>\n",
       "      <td>-0.482247</td>\n",
       "      <td>-0.152069</td>\n",
       "      <td>1.509648</td>\n",
       "      <td>0.634953</td>\n",
       "      <td>0.378681</td>\n",
       "      <td>0.581113</td>\n",
       "      <td>...</td>\n",
       "      <td>-0.392553</td>\n",
       "      <td>0.392553</td>\n",
       "      <td>100002</td>\n",
       "      <td>1</td>\n",
       "      <td>0</td>\n",
       "      <td>0</td>\n",
       "      <td>0</td>\n",
       "      <td>0</td>\n",
       "      <td>1</td>\n",
       "      <td>0</td>\n",
       "    </tr>\n",
       "    <tr>\n",
       "      <th>1</th>\n",
       "      <td>-0.575137</td>\n",
       "      <td>0.446895</td>\n",
       "      <td>1.770432</td>\n",
       "      <td>0.561651</td>\n",
       "      <td>1.643532</td>\n",
       "      <td>-1.248730</td>\n",
       "      <td>-0.166044</td>\n",
       "      <td>0.580295</td>\n",
       "      <td>1.076732</td>\n",
       "      <td>1.786068</td>\n",
       "      <td>...</td>\n",
       "      <td>-0.392553</td>\n",
       "      <td>0.392553</td>\n",
       "      <td>100003</td>\n",
       "      <td>0</td>\n",
       "      <td>1</td>\n",
       "      <td>0</td>\n",
       "      <td>0</td>\n",
       "      <td>0</td>\n",
       "      <td>0</td>\n",
       "      <td>0</td>\n",
       "    </tr>\n",
       "    <tr>\n",
       "      <th>2</th>\n",
       "      <td>-0.575137</td>\n",
       "      <td>-0.459119</td>\n",
       "      <td>-1.135828</td>\n",
       "      <td>-1.403008</td>\n",
       "      <td>-1.072059</td>\n",
       "      <td>-0.782253</td>\n",
       "      <td>-0.689353</td>\n",
       "      <td>0.675822</td>\n",
       "      <td>0.205160</td>\n",
       "      <td>0.310344</td>\n",
       "      <td>...</td>\n",
       "      <td>-0.392553</td>\n",
       "      <td>0.392553</td>\n",
       "      <td>100004</td>\n",
       "      <td>0</td>\n",
       "      <td>0</td>\n",
       "      <td>0</td>\n",
       "      <td>0</td>\n",
       "      <td>0</td>\n",
       "      <td>1</td>\n",
       "      <td>0</td>\n",
       "    </tr>\n",
       "    <tr>\n",
       "      <th>3</th>\n",
       "      <td>-0.575137</td>\n",
       "      <td>-0.157114</td>\n",
       "      <td>-0.690088</td>\n",
       "      <td>0.153632</td>\n",
       "      <td>-0.629700</td>\n",
       "      <td>-0.926918</td>\n",
       "      <td>-0.679947</td>\n",
       "      <td>0.396681</td>\n",
       "      <td>-1.374952</td>\n",
       "      <td>0.372272</td>\n",
       "      <td>...</td>\n",
       "      <td>2.547427</td>\n",
       "      <td>-2.547427</td>\n",
       "      <td>100006</td>\n",
       "      <td>0</td>\n",
       "      <td>1</td>\n",
       "      <td>0</td>\n",
       "      <td>0</td>\n",
       "      <td>0</td>\n",
       "      <td>0</td>\n",
       "      <td>0</td>\n",
       "    </tr>\n",
       "    <tr>\n",
       "      <th>4</th>\n",
       "      <td>-0.575137</td>\n",
       "      <td>-0.217515</td>\n",
       "      <td>-0.187564</td>\n",
       "      <td>-0.377159</td>\n",
       "      <td>-0.039889</td>\n",
       "      <td>0.556665</td>\n",
       "      <td>-0.892620</td>\n",
       "      <td>0.396781</td>\n",
       "      <td>0.190700</td>\n",
       "      <td>-0.300368</td>\n",
       "      <td>...</td>\n",
       "      <td>-0.392553</td>\n",
       "      <td>0.392553</td>\n",
       "      <td>100007</td>\n",
       "      <td>0</td>\n",
       "      <td>1</td>\n",
       "      <td>0</td>\n",
       "      <td>0</td>\n",
       "      <td>0</td>\n",
       "      <td>0</td>\n",
       "      <td>0</td>\n",
       "    </tr>\n",
       "  </tbody>\n",
       "</table>\n",
       "<p>5 rows × 265 columns</p>\n",
       "</div>"
      ],
      "text/plain": [
       "          0         1         2         3         4         5         6  \\\n",
       "0 -0.575137  0.144890 -0.454489 -0.184755 -0.482247 -0.152069  1.509648   \n",
       "1 -0.575137  0.446895  1.770432  0.561651  1.643532 -1.248730 -0.166044   \n",
       "2 -0.575137 -0.459119 -1.135828 -1.403008 -1.072059 -0.782253 -0.689353   \n",
       "3 -0.575137 -0.157114 -0.690088  0.153632 -0.629700 -0.926918 -0.679947   \n",
       "4 -0.575137 -0.217515 -0.187564 -0.377159 -0.039889  0.556665 -0.892620   \n",
       "\n",
       "          7         8         9 ...        255       256  SK_ID_CURR  TARGET  \\\n",
       "0  0.634953  0.378681  0.581113 ...  -0.392553  0.392553      100002       1   \n",
       "1  0.580295  1.076732  1.786068 ...  -0.392553  0.392553      100003       0   \n",
       "2  0.675822  0.205160  0.310344 ...  -0.392553  0.392553      100004       0   \n",
       "3  0.396681 -1.374952  0.372272 ...   2.547427 -2.547427      100006       0   \n",
       "4  0.396781  0.190700 -0.300368 ...  -0.392553  0.392553      100007       0   \n",
       "\n",
       "   0_0  0_1  0_2  0_3  0_4  0_5  \n",
       "0    0    0    0    0    1    0  \n",
       "1    1    0    0    0    0    0  \n",
       "2    0    0    0    0    1    0  \n",
       "3    1    0    0    0    0    0  \n",
       "4    1    0    0    0    0    0  \n",
       "\n",
       "[5 rows x 265 columns]"
      ]
     },
     "execution_count": 126,
     "metadata": {},
     "output_type": "execute_result"
    }
   ],
   "source": [
    "print(\"Shape before scaling\", df_kaggle.shape)\n",
    "df_kaggle_std = pd.DataFrame(StandardScaler().fit_transform(pd.get_dummies(df_kaggle.drop(['SK_ID_CURR', 'TARGET'], \n",
    "                                    axis=1)).values))\n",
    "print(\"Shape after scaling\", df_kaggle_std.shape)\n",
    "df_kaggle_std = df_kaggle_std.join(df_kaggle[['SK_ID_CURR', 'TARGET']])\n",
    "print(\"Shape after scaling with SK_ID and TARGET fields:\", df_kaggle_std.shape)\n",
    "df_kaggle_std = df_kaggle_std.merge(predict_clustered_matrix, on='SK_ID_CURR', how='outer', suffixes=('','_cluster'))\n",
    "print(\"Shape after joining with predict_cluster_matrix dataset:\", df_kaggle_std.shape)\n",
    "df_kaggle_std = df_kaggle_std[df_kaggle_std.TARGET != -1] # \n",
    "print('Shape after droping the Kaggle test data records', df_kaggle_std.shape)\n",
    "df_kaggle_std.head()"
   ]
  },
  {
   "cell_type": "code",
   "execution_count": 112,
   "metadata": {},
   "outputs": [
    {
     "data": {
      "image/png": "[encoded data removed]",
      "text/plain": [
       "<Figure size 792x648 with 2 Axes>"
      ]
     },
     "metadata": {},
     "output_type": "display_data"
    }
   ],
   "source": [
    "corr = df_kaggle_std[['TARGET', '0_0', '0_1', '0_2', '0_3', '0_4', '0_5']].corr()\n",
    "\n",
    "# plot correlation matrix\n",
    "# Generate a mask for the upper triangle\n",
    "mask = np.zeros_like(corr, dtype=np.bool)\n",
    "mask[np.triu_indices_from(mask)] = True\n",
    "\n",
    "# Set up the matplotlib figure\n",
    "f, ax = plt.subplots(figsize=(11, 9))\n",
    "\n",
    "# Generate a custom diverging colormap\n",
    "cmap = sns.diverging_palette(220, 10, as_cmap=True)\n",
    "\n",
    "# Draw the heatmap with the mask and correct aspect ratio\n",
    "sns.heatmap(corr, mask=mask, cmap=cmap, center=0,\n",
    "            square=True, linewidths=.5, cbar_kws={\"shrink\": .5})\n",
    "\n",
    "plt.title(\"Correlation Matrix Plot - TARGET and Predicted Cluster\", fontsize=16)\n",
    "plt.show()"
   ]
  },
  {
   "cell_type": "markdown",
   "metadata": {},
   "source": [
    "# Classification evaluation function"
   ]
  },
  {
   "cell_type": "code",
   "execution_count": 108,
   "metadata": {},
   "outputs": [],
   "source": [
    "from sklearn.metrics import confusion_matrix\n",
    "from sklearn.metrics import roc_curve\n",
    "from sklearn.metrics import auc\n",
    "from sklearn.metrics import precision_recall_curve\n",
    "from sklearn.metrics import average_precision_score\n",
    "from sklearn.metrics import f1_score\n",
    "from sklearn.metrics import accuracy_score\n",
    "from sklearn.metrics import classification_report\n",
    "import numpy\n",
    "import pandas as pd\n",
    "import itertools\n",
    "\n",
    "def classification_evaluation(y_actual, y_prediction, y_prediction_prob, pr_roc_ind=1):\n",
    "    \"\"\"\n",
    "    Implementation of classification_evaluation which is for implementaion of creation of confusion matrix and \n",
    "    ROC/PR curve.\n",
    "        \n",
    "    Arguments:\n",
    "    y_actual -- Actual values of the variable to be predicted\n",
    "    y_prediction -- Predicted values of the variable to be predicted\n",
    "    y_prediction_prob -- Prediction probabilities with predicted values of the variable to be predicted\n",
    "    pr_roc_ind -- Indicator to determine whether to create PR curve or ROC curve. If 1 then PR curve else ROC curve.\n",
    "       \n",
    "    Returns:\n",
    "    \"\"\"\n",
    "    # Compute confusion matrix\n",
    "    cnf_matrix = confusion_matrix(y_actual, y_prediction)\n",
    "    np.set_printoptions(precision=2)\n",
    "    print(\"Detailed classification report:\\n\")\n",
    "    print(classification_report(y_actual, y_prediction))\n",
    "    print('Accuracy:', accuracy_score(y_actual, y_prediction))\n",
    "    print('Weighted F1 score:', f1_score(y_actual, y_prediction, average='weighted'))\n",
    "    \n",
    "    fig, ax = plt.subplots(1,2, figsize=(14, 6))\n",
    "    # Plot confusion matrix\n",
    "    ax[0] = plot_confusion_matrix(cnf_matrix, classes=[0,1], threshold=0.5, plt_axis=ax[0])\n",
    "    ax[0].set_title('Confusion Matrix')\n",
    "\n",
    "    if pr_roc_ind==1:\n",
    "        # calculate the fpr and tpr for all thresholds of the classification\n",
    "        precision, recall, threshold = precision_recall_curve(y_actual, y_prediction_prob[:,1])\n",
    "        # Plot PR Curve    \n",
    "        ax[1] = plot_precision_recall_curve(precision, recall, plt_axis=ax[1])\n",
    "        average_precision = average_precision_score(y_actual, y_prediction)\n",
    "        ax[1].set_title(\"PR Curve:Average precision-recall score: {0:0.2f}\".format(average_precision) )\n",
    "    \n",
    "    else:\n",
    "        # calculate the fpr and tpr for all thresholds of the classification\n",
    "        fpr, tpr, threshold = roc_curve(y_actual, y_prediction_prob[:,1])\n",
    "        # Plot ROC Curve    \n",
    "        ax[1] = plot_roc_curve(fpr, tpr, plt_axis=ax[1])\n",
    "        ax[1].set_title(\"ROC Curve\")\n",
    "    \n",
    "    plt.subplots_adjust( wspace=0.2)\n",
    "    plt.show()\n",
    "    \n",
    "def plot_confusion_matrix(cm, classes, plt_axis, \n",
    "                          threshold = 0,\n",
    "                          cmap=plt.cm.Blues ):\n",
    "    \"\"\"\n",
    "    This function prints and plots the confusion matrix.\n",
    "    \"\"\"\n",
    "    cm1 = cm.astype('float') / cm.sum(axis=1)[:, np.newaxis]\n",
    "    plt.sca(plt_axis)\n",
    "    plt.imshow(cm1, interpolation='nearest', cmap=cmap)\n",
    "    plt.colorbar()\n",
    "    tick_marks = np.arange(len(classes))\n",
    "    plt.xticks(tick_marks, classes)\n",
    "    plt.yticks(tick_marks, classes)\n",
    "    fmt = '.2f' \n",
    "    thresh = cm1.max() / 4 if threshold==0 else threshold\n",
    "    for i, j in itertools.product(range(cm.shape[0]), range(cm.shape[1])):\n",
    "        plt_axis.text(j, i, format(cm[i, j], fmt)+'\\nNormalized:' + format(cm1[i, j], fmt),\n",
    "                 horizontalalignment=\"center\",\n",
    "                 color=\"white\" if cm1[i, j] > thresh else \"black\")\n",
    "\n",
    "    plt.tight_layout()\n",
    "    plt.ylabel('True label')\n",
    "    plt.xlabel('Predicted label')\n",
    "    return plt_axis\n",
    "\n",
    "def plot_roc_curve(fpr, tpr, plt_axis):\n",
    "    roc_auc = auc(fpr, tpr) # Area under curve\n",
    "    plt.sca(plt_axis)\n",
    "    plt.plot(fpr, tpr, 'b', label = 'AUC = %0.2f' % roc_auc)\n",
    "    plt.fill_between(fpr, tpr, step='post', alpha=0.2, color='b')\n",
    "    plt.legend(loc = 'lower right')\n",
    "    plt.plot([0, 1], [0, 1],'r--')\n",
    "    plt.xlim([0, 1])\n",
    "    plt.ylim([0, 1])\n",
    "    plt.ylabel('True Positive Rate')\n",
    "    plt.xlabel('False Positive Rate')\n",
    "    return plt_axis\n",
    "\n",
    "def plot_precision_recall_curve(precision, recall, plt_axis):\n",
    "    pr_auc = auc(recall, precision) # Area under curve\n",
    "    plt.sca(plt_axis)\n",
    "    plt.step(recall, precision, color='b', alpha=0.2, where='post', label = 'AUC = %0.2f' % pr_auc)\n",
    "    plt.fill_between(recall, precision, step='post', alpha=0.2, color='b')\n",
    "    plt.legend(loc = 'lower right')\n",
    "    plt.xlabel('Recall')\n",
    "    plt.ylabel('Precision')\n",
    "    plt.ylim([0.0, 1.05])\n",
    "    plt.xlim([0.0, 1.0])\n",
    "    return plt_axis"
   ]
  },
  {
   "cell_type": "markdown",
   "metadata": {},
   "source": [
    "# Perform Classification with clustering information"
   ]
  },
  {
   "cell_type": "code",
   "execution_count": 111,
   "metadata": {},
   "outputs": [
    {
     "name": "stdout",
     "output_type": "stream",
     "text": [
      "\n"
     ]
    }
   ],
   "source": [
    "from sklearn.model_selection import StratifiedShuffleSplit\n",
    "X = df_kaggle_std.drop(['SK_ID_CURR', 'TARGET'], axis=1).values\n",
    "Y = df_kaggle_std['TARGET']\n",
    "sss = StratifiedShuffleSplit(n_splits=1, test_size=0.2, random_state=0)\n",
    "count = 1\n",
    "print(\"\")\n",
    "for train_index, test_index in sss.split(X, Y):\n",
    "    X_train = X[train_index]\n",
    "    Y_train = Y[train_index]\n",
    "    X_test = X[test_index]\n",
    "    Y_test = Y[test_index]\n",
    "\n",
    "from imblearn.over_sampling import SMOTE\n",
    "sm = SMOTE( n_jobs=3)\n",
    "x_train_res, y_train_res = sm.fit_sample(X_train, Y_train.ravel())"
   ]
  },
  {
   "cell_type": "code",
   "execution_count": 114,
   "metadata": {},
   "outputs": [
    {
     "name": "stdout",
     "output_type": "stream",
     "text": [
      "dict_keys([0, 1]) dict_values([226148, 226148])\n"
     ]
    }
   ],
   "source": [
    "from collections import Counter\n",
    "print(Counter(y_train_res).keys(), Counter(y_train_res).values())"
   ]
  },
  {
   "cell_type": "code",
   "execution_count": 113,
   "metadata": {},
   "outputs": [
    {
     "name": "stdout",
     "output_type": "stream",
     "text": [
      "Random Forest Execution with clustered data: \n",
      "Detailed classification report:\n",
      "\n",
      "             precision    recall  f1-score   support\n",
      "\n",
      "          0       0.92      1.00      0.96     56538\n",
      "          1       0.24      0.01      0.03      4965\n",
      "\n",
      "avg / total       0.87      0.92      0.88     61503\n",
      "\n",
      "Accuracy: 0.9168658439425719\n",
      "Weighted F1 score: 0.8814491322104494\n"
     ]
    },
    {
     "data": {
      "image/png": "[encoded data removed]",
      "text/plain": [
       "<Figure size 1008x432 with 3 Axes>"
      ]
     },
     "metadata": {},
     "output_type": "display_data"
    }
   ],
   "source": [
    "from sklearn.ensemble import RandomForestClassifier\n",
    "\n",
    "rfc = RandomForestClassifier()\n",
    "rfc.fit(x_train_res, y_train_res.ravel())\n",
    "y_pred = rfc.predict(X_test)\n",
    "pred_prob = rfc.predict_proba(X_test)\n",
    "print(\"Random Forest Execution with clustered data: \")\n",
    "classification_evaluation(Y_test, y_pred, pred_prob)"
   ]
  },
  {
   "cell_type": "code",
   "execution_count": 115,
   "metadata": {},
   "outputs": [
    {
     "name": "stdout",
     "output_type": "stream",
     "text": [
      "Decision Tree Execution with clustered data: \n",
      "Detailed classification report:\n",
      "\n",
      "             precision    recall  f1-score   support\n",
      "\n",
      "          0       0.92      0.90      0.91     56538\n",
      "          1       0.13      0.17      0.14      4965\n",
      "\n",
      "avg / total       0.86      0.84      0.85     61503\n",
      "\n",
      "Accuracy: 0.8421215225273564\n",
      "Weighted F1 score: 0.8509937008719931\n"
     ]
    },
    {
     "data": {
      "image/png": "[encoded data removed]",
      "text/plain": [
       "<Figure size 1008x432 with 3 Axes>"
      ]
     },
     "metadata": {},
     "output_type": "display_data"
    }
   ],
   "source": [
    "from sklearn.tree import DecisionTreeClassifier\n",
    "dtc = DecisionTreeClassifier()\n",
    "dtc.fit(x_train_res, y_train_res.ravel())\n",
    "y_pred = dtc.predict(X_test)\n",
    "pred_prob = dtc.predict_proba(X_test)\n",
    "print(\"Decision Tree Execution with clustered data: \")\n",
    "classification_evaluation(Y_test, y_pred, pred_prob)"
   ]
  },
  {
   "cell_type": "code",
   "execution_count": 127,
   "metadata": {},
   "outputs": [
    {
     "name": "stdout",
     "output_type": "stream",
     "text": [
      "(17813, 640)\n"
     ]
    }
   ],
   "source": [
    "feature_matrix_std = StandardScaler().fit_transform(feature_matrix.drop('SK_ID_CURR', axis=1))\n",
    "feature_matrix_std = pd.DataFrame(feature_matrix_std)\n",
    "feature_samp = feature_matrix_std.sample(frac=0.05)\n",
    "print(feature_samp.shape)"
   ]
  },
  {
   "cell_type": "code",
   "execution_count": 130,
   "metadata": {},
   "outputs": [
    {
     "name": "stdout",
     "output_type": "stream",
     "text": [
      "Estimated number of clusters: 1\n",
      "Silhouette Coefficient: 0.010\n"
     ]
    }
   ],
   "source": [
    "from sklearn.cluster import DBSCAN\n",
    "from sklearn import metrics\n",
    "\n",
    "# Compute DBSCAN\n",
    "db = DBSCAN(eps=0.05, min_samples=10).fit(feature_samp)\n",
    "core_samples_mask = np.zeros_like(db.labels_, dtype=bool)\n",
    "core_samples_mask[db.core_sample_indices_] = True\n",
    "labels = db.labels_\n",
    "\n",
    "# Number of clusters in labels, ignoring noise if present.\n",
    "n_clusters_ = len(set(labels)) - (1 if -1 in labels else 0)\n",
    "\n",
    "print('Estimated number of clusters: %d' % n_clusters_)\n",
    "print(\"Silhouette Coefficient: %0.3f\"\n",
    "      % metrics.silhouette_score(feature_samp, labels))"
   ]
  },
  {
   "cell_type": "code",
   "execution_count": 133,
   "metadata": {},
   "outputs": [
    {
     "name": "stdout",
     "output_type": "stream",
     "text": [
      "Estimated number of clusters: 1538\n"
     ]
    }
   ],
   "source": [
    "from sklearn.cluster import AffinityPropagation\n",
    "\n",
    "af = AffinityPropagation(damping=0.5).fit(feature_samp)\n",
    "cluster_centers_indices = af.cluster_centers_indices_\n",
    "labels = af.labels_\n",
    "\n",
    "n_clusters_ = len(cluster_centers_indices)\n",
    "\n",
    "print('Estimated number of clusters: %d' % n_clusters_)\n",
    "# print(\"Silhouette Coefficient: %0.3f\"\n",
    "#       % metrics.silhouette_score(feature_samp, labels, metric='sqeuclidean'))\n",
    "\n"
   ]
  },
  {
   "cell_type": "code",
   "execution_count": 134,
   "metadata": {},
   "outputs": [
    {
     "name": "stdout",
     "output_type": "stream",
     "text": [
      "Estimated number of clusters: 1408\n"
     ]
    }
   ],
   "source": [
    "from sklearn.cluster import AffinityPropagation\n",
    "\n",
    "af = AffinityPropagation(damping=0.75).fit(feature_samp)\n",
    "cluster_centers_indices = af.cluster_centers_indices_\n",
    "labels = af.labels_\n",
    "\n",
    "n_clusters_ = len(cluster_centers_indices)\n",
    "\n",
    "print('Estimated number of clusters: %d' % n_clusters_)\n",
    "# print(\"Silhouette Coefficient: %0.3f\"\n",
    "#       % metrics.silhouette_score(feature_samp, labels, metric='sqeuclidean'))\n",
    "\n"
   ]
  },
  {
   "cell_type": "code",
   "execution_count": 138,
   "metadata": {},
   "outputs": [
    {
     "name": "stdout",
     "output_type": "stream",
     "text": [
      "Estimated number of clusters: 1574\n"
     ]
    }
   ],
   "source": [
    "from sklearn.cluster import AffinityPropagation\n",
    "\n",
    "af = AffinityPropagation(damping=0.75, convergence_iter=5).fit(feature_samp)\n",
    "cluster_centers_indices = af.cluster_centers_indices_\n",
    "labels = af.labels_\n",
    "\n",
    "n_clusters_ = len(cluster_centers_indices)\n",
    "\n",
    "print('Estimated number of clusters: %d' % n_clusters_)\n",
    "# print(\"Silhouette Coefficient: %0.3f\"\n",
    "#       % metrics.silhouette_score(feature_samp, labels, metric='sqeuclidean'))\n",
    "\n"
   ]
  },
  {
   "cell_type": "code",
   "execution_count": 140,
   "metadata": {},
   "outputs": [
    {
     "name": "stdout",
     "output_type": "stream",
     "text": [
      "Estimated number of clusters: 10753\n"
     ]
    }
   ],
   "source": [
    "from sklearn.cluster import AffinityPropagation\n",
    "\n",
    "af = AffinityPropagation(damping=0.75, convergence_iter=15, preference=-50).fit(feature_samp)\n",
    "cluster_centers_indices = af.cluster_centers_indices_\n",
    "labels = af.labels_\n",
    "\n",
    "n_clusters_ = len(cluster_centers_indices)\n",
    "\n",
    "print('Estimated number of clusters: %d' % n_clusters_)"
   ]
  },
  {
   "cell_type": "code",
   "execution_count": 141,
   "metadata": {},
   "outputs": [
    {
     "name": "stdout",
     "output_type": "stream",
     "text": [
      "Estimated number of clusters: 17813\n"
     ]
    }
   ],
   "source": [
    "from sklearn.cluster import AffinityPropagation\n",
    "\n",
    "af = AffinityPropagation(damping=0.75, convergence_iter=15, preference=50).fit(feature_samp)\n",
    "cluster_centers_indices = af.cluster_centers_indices_\n",
    "labels = af.labels_\n",
    "\n",
    "n_clusters_ = len(cluster_centers_indices)\n",
    "\n",
    "print('Estimated number of clusters: %d' % n_clusters_)"
   ]
  },
  {
   "cell_type": "code",
   "execution_count": 139,
   "metadata": {},
   "outputs": [
    {
     "name": "stdout",
     "output_type": "stream",
     "text": [
      "Estimated number of clusters: 1408\n"
     ]
    }
   ],
   "source": [
    "from sklearn.cluster import AffinityPropagation\n",
    "\n",
    "af = AffinityPropagation(damping=0.75, convergence_iter=50).fit(feature_samp)\n",
    "cluster_centers_indices = af.cluster_centers_indices_\n",
    "labels = af.labels_\n",
    "\n",
    "n_clusters_ = len(cluster_centers_indices)\n",
    "\n",
    "print('Estimated number of clusters: %d' % n_clusters_)\n",
    "# print(\"Silhouette Coefficient: %0.3f\"\n",
    "#       % metrics.silhouette_score(feature_samp, labels, metric='sqeuclidean'))\n",
    "\n"
   ]
  }
 ],
 "metadata": {
  "kernelspec": {
   "display_name": "Python 3",
   "language": "python",
   "name": "python3"
  },
  "language_info": {
   "codemirror_mode": {
    "name": "ipython",
    "version": 3
   },
   "file_extension": ".py",
   "mimetype": "text/x-python",
   "name": "python",
   "nbconvert_exporter": "python",
   "pygments_lexer": "ipython3",
   "version": "3.6.5"
  }
 },
 "nbformat": 4,
 "nbformat_minor": 2
}
